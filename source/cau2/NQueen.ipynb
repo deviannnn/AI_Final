{
 "cells": [
  {
   "cell_type": "code",
   "execution_count": 5,
   "metadata": {},
   "outputs": [],
   "source": [
    "from pysat.solvers import Glucose3\n",
    "from numpy import array"
   ]
  },
  {
   "attachments": {},
   "cell_type": "markdown",
   "metadata": {},
   "source": [
    "Lớp NQueenSolver"
   ]
  },
  {
   "cell_type": "code",
   "execution_count": 7,
   "metadata": {},
   "outputs": [],
   "source": [
    "class NQueenSolver():\n",
    "    def __init__(self, N: int):\n",
    "        super().__init__()\n",
    "        self.__N = N\n",
    "\n",
    "    def flatten(self, n, x, y):\n",
    "        return x * n + y + 1\n",
    "\n",
    "    def buildCNF(self, n):\n",
    "        CNFset_n = []\n",
    "        for i in range(n):\n",
    "            for j in range(n):\n",
    "                for k in range(j+1, n):\n",
    "                    CNFset_n.append(\n",
    "                        [-self.flatten(n, j, i), -self.flatten(n, k, i)])\n",
    "            CNFset_n.append([self.flatten(n, j, i) for j in range(n)])\n",
    "        for i in range(n):\n",
    "            for j in range(n):\n",
    "                for k in range(j+1, n):\n",
    "                    CNFset_n.append(\n",
    "                        [-self.flatten(n, i, j), -self.flatten(n, i, k)])\n",
    "        for i in range(-(n-1), n):\n",
    "            for j in range(n):\n",
    "                if i + j >= 0 and i + j < n:\n",
    "                    for k in range(j+1, n):\n",
    "                        if i + k >= 0 and i + k < n:\n",
    "                            CNFset_n.append(\n",
    "                                [-self.flatten(n, j, i+j), -self.flatten(n, k, i+k)])\n",
    "        for i in range(0, (2*n-1)):\n",
    "            for j in range(n):\n",
    "                if i - j >= 0 and i - j < n:\n",
    "                    for k in range(j+1, n):\n",
    "                        if i - k >= 0 and i - k < n:\n",
    "                            CNFset_n.append(\n",
    "                                [-self.flatten(n, j, i-j), -self.flatten(n, k, i-k)])\n",
    "        return CNFset_n\n",
    "\n",
    "    def check_solve(self, n, CNFset_n, visualize=True):\n",
    "        b = Glucose3()\n",
    "        for cnf in CNFset_n:\n",
    "            b.add_clause(cnf)\n",
    "        isSatisfiable = b.solve()\n",
    "        result = b.get_model()\n",
    "        if visualize:\n",
    "            if isSatisfiable:\n",
    "                Q = [[False for i in range(n)] for j in range(n)]\n",
    "                for i in result:\n",
    "                    if i > 0:\n",
    "                        Q[(i - 1) // n][(i - 1) % n] = True\n",
    "\n",
    "                self.matrix = [[\".\" for j in range(n)] for i in range(n)]\n",
    "                for i in range(n):\n",
    "                    for j in range(n):\n",
    "                        if Q[i][j] == True:\n",
    "                            self.matrix[i][j] = 'Q'\n",
    "                        else:\n",
    "                            self.matrix[i][j] = '.'\n",
    "                return True\n",
    "        return False\n",
    "\n",
    "    def solve(self):\n",
    "        CNF = self.buildCNF(self.__N)\n",
    "        if self.check_solve(self.__N, CNF):\n",
    "            print(array(self.matrix))\n",
    "        else:\n",
    "            print(\"UNSOLVABLE\")\n"
   ]
  },
  {
   "cell_type": "code",
   "execution_count": 8,
   "metadata": {},
   "outputs": [
    {
     "name": "stdout",
     "output_type": "stream",
     "text": [
      "[['.' '.' '.' '.' '.' '.' '.' '.' '.' '.' '.' 'Q']\n",
      " ['.' '.' '.' '.' '.' '.' 'Q' '.' '.' '.' '.' '.']\n",
      " ['.' '.' '.' '.' 'Q' '.' '.' '.' '.' '.' '.' '.']\n",
      " ['.' 'Q' '.' '.' '.' '.' '.' '.' '.' '.' '.' '.']\n",
      " ['.' '.' '.' '.' '.' '.' '.' '.' 'Q' '.' '.' '.']\n",
      " ['.' '.' '.' '.' '.' 'Q' '.' '.' '.' '.' '.' '.']\n",
      " ['.' '.' '.' '.' '.' '.' '.' '.' '.' 'Q' '.' '.']\n",
      " ['.' '.' 'Q' '.' '.' '.' '.' '.' '.' '.' '.' '.']\n",
      " ['Q' '.' '.' '.' '.' '.' '.' '.' '.' '.' '.' '.']\n",
      " ['.' '.' '.' '.' '.' '.' '.' '.' '.' '.' 'Q' '.']\n",
      " ['.' '.' '.' 'Q' '.' '.' '.' '.' '.' '.' '.' '.']\n",
      " ['.' '.' '.' '.' '.' '.' '.' 'Q' '.' '.' '.' '.']]\n"
     ]
    }
   ],
   "source": [
    "ns = NQueenSolver(12)\n",
    "ns.solve()"
   ]
  }
 ],
 "metadata": {
  "kernelspec": {
   "display_name": "Python 3",
   "language": "python",
   "name": "python3"
  },
  "language_info": {
   "codemirror_mode": {
    "name": "ipython",
    "version": 3
   },
   "file_extension": ".py",
   "mimetype": "text/x-python",
   "name": "python",
   "nbconvert_exporter": "python",
   "pygments_lexer": "ipython3",
   "version": "3.12.0"
  },
  "orig_nbformat": 4
 },
 "nbformat": 4,
 "nbformat_minor": 2
}
